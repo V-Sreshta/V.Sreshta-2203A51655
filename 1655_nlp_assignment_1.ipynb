{
  "nbformat": 4,
  "nbformat_minor": 0,
  "metadata": {
    "colab": {
      "provenance": [],
      "toc_visible": true
    },
    "kernelspec": {
      "name": "python3",
      "display_name": "Python 3"
    },
    "language_info": {
      "name": "python"
    }
  },
  "cells": [
    {
      "cell_type": "code",
      "execution_count": 1,
      "metadata": {
        "colab": {
          "base_uri": "https://localhost:8080/"
        },
        "id": "BXOhAnUEqUGY",
        "outputId": "23ab8ded-5a92-41f3-89cf-a042d01aea3d"
      },
      "outputs": [
        {
          "output_type": "stream",
          "name": "stderr",
          "text": [
            "[nltk_data] Downloading package punkt to /root/nltk_data...\n",
            "[nltk_data]   Unzipping tokenizers/punkt.zip.\n",
            "[nltk_data] Downloading package averaged_perceptron_tagger to\n",
            "[nltk_data]     /root/nltk_data...\n",
            "[nltk_data]   Unzipping taggers/averaged_perceptron_tagger.zip.\n"
          ]
        },
        {
          "output_type": "stream",
          "name": "stdout",
          "text": [
            "Original text: The bank can guarantee deposits will eventually cover future tuition costs because it invests in adjustable-rate mortgage securities.\n",
            "Disambiguated text: The bank (financial institution) can guarantee deposits will eventually cover future tuition costs because it invests in adjustable-rate mortgage securities .\n"
          ]
        }
      ],
      "source": [
        "import nltk\n",
        "from nltk.tokenize import word_tokenize\n",
        "from nltk.tag import pos_tag\n",
        "\n",
        "nltk.download('punkt')\n",
        "nltk.download('averaged_perceptron_tagger')\n",
        "\n",
        "text = \"The bank can guarantee deposits will eventually cover future tuition costs because it invests in adjustable-rate mortgage securities.\"\n",
        "tokens = word_tokenize(text)\n",
        "tagged = pos_tag(tokens)\n",
        "\n",
        "def disambiguate(word, tag):\n",
        "    if word.lower() == 'bank':\n",
        "        if tag.startswith('N'):  # Noun\n",
        "            return 'bank (financial institution)'\n",
        "        elif tag.startswith('V'):  # Verb\n",
        "            return 'bank (rely on)'\n",
        "    return word\n",
        "disambiguated = [disambiguate(word, tag) for word, tag in tagged]\n",
        "\n",
        "print(\"Original text:\", text)\n",
        "print(\"Disambiguated text:\", ' '.join(disambiguated))"
      ]
    }
  ]
}